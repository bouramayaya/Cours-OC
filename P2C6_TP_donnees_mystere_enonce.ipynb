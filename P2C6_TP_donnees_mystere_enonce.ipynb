{
  "nbformat": 4,
  "nbformat_minor": 0,
  "metadata": {
    "colab": {
      "provenance": [],
      "toc_visible": true
    },
    "kernelspec": {
      "name": "python3",
      "display_name": "Python 3"
    },
    "language_info": {
      "name": "python"
    }
  },
  "cells": [
    {
      "cell_type": "markdown",
      "source": [
        "# Réalisez une ACP - Le jeu de données mystère - Enoncé"
      ],
      "metadata": {
        "id": "ulq65LCU5yX8"
      }
    },
    {
      "cell_type": "markdown",
      "source": [
        "# 1 Preliminary"
      ],
      "metadata": {
        "id": "tWJ8UFzD5yaX"
      }
    },
    {
      "cell_type": "markdown",
      "source": [
        "## 1.1 Context"
      ],
      "metadata": {
        "id": "v-mHRiO45ycv"
      }
    },
    {
      "cell_type": "markdown",
      "source": [
        "Ce TP est en lien avec l'activité [Réalisez une ACP](https://openclassrooms.com/fr/courses/4525281-realisez-une-analyse-exploratoire-de-donnees/5345201-tp-realisez-une-acp), de la partie 2 du cours  [Réalisez une analyse exploratoire de données](https://openclassrooms.com/fr/courses/4525281-realisez-une-analyse-exploratoire-de-donnees).\n",
        "\n",
        "Nous allons travailler sur le *jeu de données mystère*.\n",
        "\n",
        "Prenez le temps de bien **lire**, **comprendre** et **tester** le code ci dessous.\n",
        "\n",
        "<br>\n",
        "\n",
        "------------------------------\n",
        "\n",
        "<br>\n",
        "\n",
        "En cas de question, n'hésitez pas à nous adresser vos remarques ou suggestions via ce [lien](https://openclassrooms.zendesk.com/hc/fr/requests/new).\n",
        "\n",
        "<br>\n",
        "\n",
        "-------------------------\n",
        "\n",
        "<br>\n",
        "\n",
        "* version : 0.0.1\n",
        "* last update:  2022-08-03\n",
        "* author : [Alexandre Gazagnes](https://twitter.com/Alex_Gazagnes)\n",
        "\n",
        "<br>"
      ],
      "metadata": {
        "id": "_6oS-JZlxOjk"
      }
    },
    {
      "cell_type": "markdown",
      "source": [
        "## 1.2 Imports"
      ],
      "metadata": {
        "id": "2gCimqaB5yex"
      }
    },
    {
      "cell_type": "markdown",
      "source": [
        "Nous allons importer nos librairies : "
      ],
      "metadata": {
        "id": "97JZ3oUpDLH1"
      }
    },
    {
      "cell_type": "code",
      "source": [
        "######\n",
        "\n",
        "# Il manque du code !\n",
        "\n",
        "######\n",
        "\n",
        "import matplotlib.pyplot as plt\n",
        "from matplotlib.collections import LineCollection\n",
        "import seaborn as sns\n",
        "import plotly.express as px"
      ],
      "metadata": {
        "id": "GQguJyWL6B5F"
      },
      "execution_count": null,
      "outputs": []
    },
    {
      "cell_type": "markdown",
      "source": [
        "## 1.3 Graphics and Options"
      ],
      "metadata": {
        "id": "rlUV1ZAM5yhL"
      }
    },
    {
      "cell_type": "markdown",
      "source": [
        "On *charge* `seaborn` : "
      ],
      "metadata": {
        "id": "Eh0VdPZtDL9a"
      }
    },
    {
      "cell_type": "code",
      "source": [
        "sns.set()"
      ],
      "metadata": {
        "id": "qQfTzavN6CWs"
      },
      "execution_count": null,
      "outputs": []
    },
    {
      "cell_type": "markdown",
      "source": [
        "<link rel=\"stylesheet\" href=\"https://cdn.jsdelivr.net/npm/bootstrap@4.0.0/dist/css/bootstrap.min.css\" integrity=\"sha384-Gn5384xqQ1aoWXA+058RXPxPg6fy4IWvTNh0E263XmFcJlSAwiGgFAW/dAiS6JXm\" crossorigin=\"anonymous\">\n",
        "<script src=\"https://code.jquery.com/jquery-3.2.1.slim.min.js\" integrity=\"sha384-KJ3o2DKtIkvYIK3UENzmM7KCkRr/rE9/Qpg6aAZGJwFDMVNA/GpGFF93hXpG5KkN\" crossorigin=\"anonymous\"></script>\n",
        "<script src=\"https://cdn.jsdelivr.net/npm/popper.js@1.12.9/dist/umd/popper.min.js\" integrity=\"sha384-ApNbgh9B+Y1QKtv3Rn7W3mgPxhU9K/ScQsAP7hUibX39j7fakFPskvXusvfa0b4Q\" crossorigin=\"anonymous\"></script>\n",
        "<script src=\"https://cdn.jsdelivr.net/npm/bootstrap@4.0.0/dist/js/bootstrap.min.js\" integrity=\"sha384-JZR6Spejh4U02d8jOt6vLEHfe/JQGiRRSQQxSfFWpi1MquVdAyjUar5+76PVCmYl\" crossorigin=\"anonymous\"></script>"
      ],
      "metadata": {
        "id": "5JqQ-jddp56n"
      }
    },
    {
      "cell_type": "markdown",
      "source": [
        "## 1.4 Data"
      ],
      "metadata": {
        "id": "phAzAAUg5yjO"
      }
    },
    {
      "cell_type": "markdown",
      "source": [
        "Nous allons maintenant charger les données. Pour ce faire vous pouvez les retrouver sur cette [page du cours](https://openclassrooms.com/fr/courses/4525281-realisez-une-analyse-exploratoire-de-donnees/5148885-telechargez-les-jeux-de-donnees-analyses-dans-ce-cours).\n",
        "\n",
        "<br>\n",
        "\n",
        "------------------------\n",
        "\n",
        "\n",
        "<br>\n",
        "\n",
        "\n",
        "Si vous utlisez Google Colab et que vous ne savez pas comment importer un fichier .csv, voici une [vidéo](https://youtu.be/6HFlwqK3oeo?t=171) à regarder à partir de 2:53\n",
        "\n",
        "<br>\n",
        "\n",
        "-------------------------------------\n",
        "\n",
        "<br>\n",
        "\n",
        "\n",
        "Importons notre fichier : "
      ],
      "metadata": {
        "id": "Gwixs0mLDM3y"
      }
    },
    {
      "cell_type": "code",
      "source": [
        "######\n",
        "\n",
        "# Il manque du code !\n",
        "\n",
        "######"
      ],
      "metadata": {
        "id": "nuOlaufp6CwR"
      },
      "execution_count": null,
      "outputs": []
    },
    {
      "cell_type": "markdown",
      "source": [
        "## 1.5 Functions"
      ],
      "metadata": {
        "id": "vJvRBlVolgMq"
      }
    },
    {
      "cell_type": "markdown",
      "source": [
        "Nous allons copier - coller les fonctions de notre précédent notebook.\n",
        "\n",
        "Ces fonctions sont assez complexes. Je ne vous demande pas de les comprendre de A à Z. Essayez juste de les lire à la volée pour voir si vous les comprenez.\n",
        "\n",
        "Si vous ne comprenez pas tout, encore une fois, cela n'est pas grave.\n"
      ],
      "metadata": {
        "id": "wKKf6PO4ljv2"
      }
    },
    {
      "cell_type": "markdown",
      "source": [
        "Pour le graphe des correlations : "
      ],
      "metadata": {
        "id": "krH1sylh7azT"
      }
    },
    {
      "cell_type": "code",
      "source": [
        "######\n",
        "\n",
        "# Il manque du code !\n",
        "\n",
        "######"
      ],
      "metadata": {
        "id": "9h47C4DJlifC"
      },
      "execution_count": null,
      "outputs": []
    },
    {
      "cell_type": "markdown",
      "source": [
        "Pour les plans factoriels : "
      ],
      "metadata": {
        "id": "rvpQ-SfU7e9v"
      }
    },
    {
      "cell_type": "code",
      "source": [
        "######\n",
        "\n",
        "# Il manque du code !\n",
        "\n",
        "######"
      ],
      "metadata": {
        "id": "y6yObZKildKX"
      },
      "execution_count": null,
      "outputs": []
    },
    {
      "cell_type": "markdown",
      "source": [
        "Si vous avez vu des choses bizarres dans le code, pas de soucis, supprimez les lignes en question !"
      ],
      "metadata": {
        "id": "nlsspMOEDYkL"
      }
    },
    {
      "cell_type": "markdown",
      "source": [
        "# 2 Data Preparation"
      ],
      "metadata": {
        "id": "3W8KOXQO5ypf"
      }
    },
    {
      "cell_type": "markdown",
      "source": [
        "Avant de nous jeter dans le grand bain, nous allons devoir étudier et préparer un peu le terrain."
      ],
      "metadata": {
        "id": "jLItqV7XDhiR"
      }
    },
    {
      "cell_type": "markdown",
      "source": [
        "## 2.1 Quick tour"
      ],
      "metadata": {
        "id": "GbAAA1hl9tvo"
      }
    },
    {
      "cell_type": "markdown",
      "source": [
        "Tout d'abord faisons un rapide tour de nos données. Commencons par les afficher : "
      ],
      "metadata": {
        "id": "zNkwWo5ODoOO"
      }
    },
    {
      "cell_type": "code",
      "source": [
        "######\n",
        "\n",
        "# Il manque du code !\n",
        "\n",
        "######"
      ],
      "metadata": {
        "id": "FoH7DT_69vYi"
      },
      "execution_count": null,
      "outputs": []
    },
    {
      "cell_type": "code",
      "source": [
        "######\n",
        "\n",
        "# Il manque du code !\n",
        "\n",
        "######"
      ],
      "metadata": {
        "id": "ZB9bktAO9whM"
      },
      "execution_count": null,
      "outputs": []
    },
    {
      "cell_type": "markdown",
      "source": [
        "Quelle est la dimension de notre dataframe? "
      ],
      "metadata": {
        "id": "B1TCCVMiDvup"
      }
    },
    {
      "cell_type": "code",
      "source": [
        "df.shape"
      ],
      "metadata": {
        "id": "Qj6jjInk9xX0",
        "colab": {
          "base_uri": "https://localhost:8080/",
          "height": 170
        },
        "outputId": "4b1cd704-3b08-45ef-c6db-4cd7902b0fbe"
      },
      "execution_count": null,
      "outputs": [
        {
          "output_type": "error",
          "ename": "NameError",
          "evalue": "ignored",
          "traceback": [
            "\u001b[0;31m---------------------------------------------------------------------------\u001b[0m",
            "\u001b[0;31mNameError\u001b[0m                                 Traceback (most recent call last)",
            "\u001b[0;32m<ipython-input-8-633337079cd0>\u001b[0m in \u001b[0;36m<module>\u001b[0;34m()\u001b[0m\n\u001b[0;32m----> 1\u001b[0;31m \u001b[0mdf\u001b[0m\u001b[0;34m.\u001b[0m\u001b[0mshape\u001b[0m\u001b[0;34m\u001b[0m\u001b[0;34m\u001b[0m\u001b[0m\n\u001b[0m",
            "\u001b[0;31mNameError\u001b[0m: name 'df' is not defined"
          ]
        }
      ]
    },
    {
      "cell_type": "markdown",
      "source": [
        "La méthode `info` nous donne des indications globales : "
      ],
      "metadata": {
        "id": "jXSudJ3rDu9N"
      }
    },
    {
      "cell_type": "code",
      "source": [
        "df.info()"
      ],
      "metadata": {
        "id": "Wnzh1nbI9zEC"
      },
      "execution_count": null,
      "outputs": []
    },
    {
      "cell_type": "markdown",
      "source": [
        "Quel est le % de valeurs manquantes par colonne ? "
      ],
      "metadata": {
        "id": "NPvmwuYRD6Ep"
      }
    },
    {
      "cell_type": "code",
      "source": [
        "######\n",
        "\n",
        "# Il manque du code !\n",
        "\n",
        "######"
      ],
      "metadata": {
        "id": "nS08CAZI90md"
      },
      "execution_count": null,
      "outputs": []
    },
    {
      "cell_type": "markdown",
      "source": [
        "Y a-t-il des lignes en double ? "
      ],
      "metadata": {
        "id": "KhcLscVND96u"
      }
    },
    {
      "cell_type": "code",
      "source": [
        "df.duplicated().sum()"
      ],
      "metadata": {
        "id": "QFtmUC7B96Tt"
      },
      "execution_count": null,
      "outputs": []
    },
    {
      "cell_type": "markdown",
      "source": [
        "Combien y a-t-il de valeurs différentes par colonne ? "
      ],
      "metadata": {
        "id": "wPxEnq7cEBEs"
      }
    },
    {
      "cell_type": "code",
      "source": [
        "df.nunique()"
      ],
      "metadata": {
        "id": "F-trAkxw92pn"
      },
      "execution_count": null,
      "outputs": []
    },
    {
      "cell_type": "markdown",
      "source": [
        "Enfin la methode `describe` nous donne une idée de la dispertion globale de nos données : "
      ],
      "metadata": {
        "id": "EzJEgmTjEH3I"
      }
    },
    {
      "cell_type": "markdown",
      "source": [
        "Le dataframe est assez simple, pas de nettoyage à faire. Tant mieux!"
      ],
      "metadata": {
        "id": "hxS5eGfXpsQm"
      }
    },
    {
      "cell_type": "markdown",
      "source": [
        "# 3 About PCA"
      ],
      "metadata": {
        "id": "5wgpfsxp8RtC"
      }
    },
    {
      "cell_type": "markdown",
      "source": [
        "## 3.1 Scaling"
      ],
      "metadata": {
        "id": "rIrXSzv9tINn"
      }
    },
    {
      "cell_type": "markdown",
      "source": [
        "Nous allons effectuer notre scaling. Attention toutefois, réduire n'est ici pas nécessaire car les variables sont exprimées dans la même unité. \n",
        "\n",
        "On se contente juste de centrer les données, ce qui est obligatoire pour une ACP.\n",
        "\n",
        "Pour ce faire, on peut utiliser l'argument `with_std=False` : "
      ],
      "metadata": {
        "id": "0xWiB6CIt1Cg"
      }
    },
    {
      "cell_type": "code",
      "source": [
        "scaler = StandardScaler(with_std=False)\n",
        "scaler"
      ],
      "metadata": {
        "id": "m09Sl98ftIdO"
      },
      "execution_count": null,
      "outputs": []
    },
    {
      "cell_type": "markdown",
      "source": [
        "On fit : "
      ],
      "metadata": {
        "id": "ZIMBhBmCtIoa"
      }
    },
    {
      "cell_type": "code",
      "source": [
        "######\n",
        "\n",
        "# Il manque du code !\n",
        "\n",
        "######"
      ],
      "metadata": {
        "id": "Ot5-WVEmtI1d"
      },
      "execution_count": null,
      "outputs": []
    },
    {
      "cell_type": "markdown",
      "source": [
        "On transforme : "
      ],
      "metadata": {
        "id": "C5H7YYgTtJAA"
      }
    },
    {
      "cell_type": "code",
      "source": [
        "######\n",
        "\n",
        "# Il manque du code !\n",
        "\n",
        "######"
      ],
      "metadata": {
        "id": "CeSpK1mJtJLt"
      },
      "execution_count": null,
      "outputs": []
    },
    {
      "cell_type": "markdown",
      "source": [
        "## 3.2 PCA"
      ],
      "metadata": {
        "id": "gmeU74ml8fI4"
      }
    },
    {
      "cell_type": "markdown",
      "source": [
        "Nous allons travailler sur les 3 composantes : "
      ],
      "metadata": {
        "id": "KQTyHvZwGHis"
      }
    },
    {
      "cell_type": "code",
      "source": [
        "n_components = 3"
      ],
      "metadata": {
        "id": "5ils1o5f8X4Q"
      },
      "execution_count": null,
      "outputs": []
    },
    {
      "cell_type": "markdown",
      "source": [
        "On instancie notre ACP : "
      ],
      "metadata": {
        "id": "qcDjEWLZGK86"
      }
    },
    {
      "cell_type": "code",
      "source": [
        "######\n",
        "\n",
        "# Il manque du code !\n",
        "\n",
        "######"
      ],
      "metadata": {
        "id": "-5-8Ujeb8ZNr"
      },
      "execution_count": null,
      "outputs": []
    },
    {
      "cell_type": "markdown",
      "source": [
        "On l'entraine : "
      ],
      "metadata": {
        "id": "mnU1sDZvGOo6"
      }
    },
    {
      "cell_type": "code",
      "source": [
        "######\n",
        "\n",
        "# Il manque du code !\n",
        "\n",
        "######"
      ],
      "metadata": {
        "id": "DTjhlLiL-l7U"
      },
      "execution_count": null,
      "outputs": []
    },
    {
      "cell_type": "markdown",
      "source": [
        "## 3.3 Explained variance & scree plot"
      ],
      "metadata": {
        "id": "djz1GD-l8hif"
      }
    },
    {
      "cell_type": "markdown",
      "source": [
        "Intéressons nous maintenant à la variance *captée* par chaque nouvelle composante. Grace à `scikit-learn` on peut utiliser l'attribut `explained_variance_ratio_` : "
      ],
      "metadata": {
        "id": "4n5P_EQfGVPn"
      }
    },
    {
      "cell_type": "code",
      "source": [
        "pca.explained_variance_ratio_"
      ],
      "metadata": {
        "id": "MfvlVuch-t2J"
      },
      "execution_count": null,
      "outputs": []
    },
    {
      "cell_type": "markdown",
      "source": [
        "Ici la 1ère composante *capte* 75% de la variance de nos données initiales, la 2ème 20% etc etc."
      ],
      "metadata": {
        "id": "P9_KYj-NGioD"
      }
    },
    {
      "cell_type": "markdown",
      "source": [
        "Enregistrons cela dans une variable : "
      ],
      "metadata": {
        "id": "RtN1h3QPGtYe"
      }
    },
    {
      "cell_type": "code",
      "source": [
        "######\n",
        "\n",
        "# Il manque du code !\n",
        "\n",
        "######"
      ],
      "metadata": {
        "id": "FWcHhdOF8i4_"
      },
      "execution_count": null,
      "outputs": []
    },
    {
      "cell_type": "markdown",
      "source": [
        "Les 2 premières composantes *captent* - à elles seules -  `75+20 = 95%` de la variance!!!\n",
        "\n",
        "Dans le jargon, cela s'appelle une *somme cumulée*. Et pour faire une somme cumulée `numpy`dispose de la fonction `cumsum` : "
      ],
      "metadata": {
        "id": "_Ah1nBAFGwht"
      }
    },
    {
      "cell_type": "code",
      "source": [
        "######\n",
        "\n",
        "# Il manque du code !\n",
        "\n",
        "######"
      ],
      "metadata": {
        "id": "wTNKE3Iu8l7w"
      },
      "execution_count": null,
      "outputs": []
    },
    {
      "cell_type": "markdown",
      "source": [
        "Définisions ensuite une variable avec la liste de nos composantes : "
      ],
      "metadata": {
        "id": "Azu71-QcHMdg"
      }
    },
    {
      "cell_type": "code",
      "source": [
        "x_list = range(1, n_components+1)\n",
        "list(x_list)"
      ],
      "metadata": {
        "id": "ZvVsOwIr_HH-"
      },
      "execution_count": null,
      "outputs": []
    },
    {
      "cell_type": "markdown",
      "source": [
        "On peut enfin l'afficher de façon graphique : "
      ],
      "metadata": {
        "id": "mOrtj3uCHUJh"
      }
    },
    {
      "cell_type": "code",
      "source": [
        "######\n",
        "\n",
        "# Il manque du code !\n",
        "\n",
        "######"
      ],
      "metadata": {
        "id": "7tFT1tvS8jVF"
      },
      "execution_count": null,
      "outputs": []
    },
    {
      "cell_type": "markdown",
      "source": [
        "On a en bleu la variance de chaque nouvelle composante, et en rouge la variance cumulée."
      ],
      "metadata": {
        "id": "Rnv5i4QyYpWk"
      }
    },
    {
      "cell_type": "markdown",
      "source": [
        "On voit ici que près de 95% de la variance est comprise dans les 2 premières composantes. En clair, la 3e composante n'est pas très *utile*..."
      ],
      "metadata": {
        "id": "mwpCEeloHeQO"
      }
    },
    {
      "cell_type": "markdown",
      "source": [
        "## 3.4 Components"
      ],
      "metadata": {
        "id": "URbdIMsj8zWl"
      }
    },
    {
      "cell_type": "markdown",
      "source": [
        "Intéressons nous maintenant à nos fameuses composantes. Nous avons dit dans le cours que c'est bien par un calcul que l'on obtient ces composantes. \n",
        "\n",
        "La formule de ce calcul nous est donnée par l'attribut `components_`. Cette variable est généralement nommée `pcs` : "
      ],
      "metadata": {
        "id": "VsVg2hSwHreN"
      }
    },
    {
      "cell_type": "code",
      "source": [
        "######\n",
        "\n",
        "# Il manque du code !\n",
        "\n",
        "######"
      ],
      "metadata": {
        "id": "GSxN5_aA81fn"
      },
      "execution_count": null,
      "outputs": []
    },
    {
      "cell_type": "markdown",
      "source": [
        "Affichons la même chose mais version `pandas` : "
      ],
      "metadata": {
        "id": "7JbXWzNWIBSK"
      }
    },
    {
      "cell_type": "code",
      "source": [
        "pcs = pd.DataFrame(pcs)\n",
        "pcs"
      ],
      "metadata": {
        "id": "HLYtZl7z_kk5"
      },
      "execution_count": null,
      "outputs": []
    },
    {
      "cell_type": "markdown",
      "source": [
        "Intéressant... Mais pas encore très clair...\n",
        "Continuons le travail : "
      ],
      "metadata": {
        "id": "0xd0uKUeIINc"
      }
    },
    {
      "cell_type": "code",
      "source": [
        "pcs.columns = df.columns\n",
        "pcs.index = [f\"F{i}\" for i in x_list]\n",
        "pcs.round(2)"
      ],
      "metadata": {
        "id": "Kja0sm4N_bUm"
      },
      "execution_count": null,
      "outputs": []
    },
    {
      "cell_type": "markdown",
      "source": [
        "De mieux en mieux !  \n",
        "\n",
        "-- **ATTENTION** -- : Nous avons arrondi les résultats pour simplifier l'analyse :) "
      ],
      "metadata": {
        "id": "vLefXSAjIO6B"
      }
    },
    {
      "cell_type": "markdown",
      "source": [
        "\n",
        "\n",
        "Alors, comment calcule t-on la première composante `F1` ? \n",
        "\n",
        "et bien c'est assez simple :\n",
        "\n",
        "`F1 = (0.16 * x) + (-0.99 * y) + (0.02 * z)`\n",
        "\n",
        "et F2 ?\n",
        "\n",
        "`F2 = (-0.06 * x) + (-0.01 * y) + (-1.0 * z)`\n",
        "\n",
        "**Eureka !**\n"
      ],
      "metadata": {
        "id": "q2cmDfhfKJJA"
      }
    },
    {
      "cell_type": "markdown",
      "source": [
        "\n",
        "Dans certains cas, on voudra afficher ce dataframe comme cela : "
      ],
      "metadata": {
        "id": "tRTwCH7TKKni"
      }
    },
    {
      "cell_type": "code",
      "source": [
        "pcs.T"
      ],
      "metadata": {
        "id": "yyavxCt8_-V8"
      },
      "execution_count": null,
      "outputs": []
    },
    {
      "cell_type": "markdown",
      "source": [
        "Et pour une représentation plus *visuelle*, comme cela : "
      ],
      "metadata": {
        "id": "_qUlQTnwJh1Y"
      }
    },
    {
      "cell_type": "code",
      "source": [
        "######\n",
        "\n",
        "# Il manque du code !\n",
        "\n",
        "######"
      ],
      "metadata": {
        "id": "P2l7uuOWAA18"
      },
      "execution_count": null,
      "outputs": []
    },
    {
      "cell_type": "markdown",
      "source": [
        "A ce stade, on sait déja que :  \n",
        "* `F1+F2 =95%` de la variance.\n",
        "* `F1 = -y + 'un peu' de x` et `F2 = z`"
      ],
      "metadata": {
        "id": "gu1QHTSx2Sfh"
      }
    },
    {
      "cell_type": "markdown",
      "source": [
        "## 3.5 Correlation graph"
      ],
      "metadata": {
        "id": "DzhDQbYpApUZ"
      }
    },
    {
      "cell_type": "markdown",
      "source": [
        "Pour la partie graphique, nous allons utiliser les fonctions vues dans la section 1.5.\n",
        "\n"
      ],
      "metadata": {
        "id": "RLQf6BFVU980"
      }
    },
    {
      "cell_type": "markdown",
      "source": [
        "Définissons nos axes x et y. Nous allons utiliser les 2 premières composantes. Comme - en code - on commence à compter à partir de 0, cela nous donne : "
      ],
      "metadata": {
        "id": "y6DT05G_VNFg"
      }
    },
    {
      "cell_type": "code",
      "source": [
        "x, y = 0,1"
      ],
      "metadata": {
        "id": "R0G29uPXWJk2"
      },
      "execution_count": null,
      "outputs": []
    },
    {
      "cell_type": "code",
      "source": [
        "######\n",
        "\n",
        "# Il manque du code !\n",
        "\n",
        "######"
      ],
      "metadata": {
        "id": "9yv43xrZXjJu"
      },
      "execution_count": null,
      "outputs": []
    },
    {
      "cell_type": "markdown",
      "source": [
        "Conclusion : F1 est principalement composée de -y et F2 de -z."
      ],
      "metadata": {
        "id": "tF-BduM428bu"
      }
    },
    {
      "cell_type": "markdown",
      "source": [
        "## 3.6 Projection"
      ],
      "metadata": {
        "id": "8Tp0xPNnZyUC"
      }
    },
    {
      "cell_type": "markdown",
      "source": [
        "Travaillons maintenant sur la projection de nos dimensions. Tout d'abord calculons les coordonnées de nos individus dans le nouvel espace : "
      ],
      "metadata": {
        "id": "fSN-ysrUapCJ"
      }
    },
    {
      "cell_type": "code",
      "source": [
        "######\n",
        "\n",
        "# Il manque du code !\n",
        "\n",
        "######"
      ],
      "metadata": {
        "id": "XTefDhHfBOS4"
      },
      "execution_count": null,
      "outputs": []
    },
    {
      "cell_type": "markdown",
      "source": [
        "On rappelle que : "
      ],
      "metadata": {
        "id": "S6NUOHI53MmR"
      }
    },
    {
      "cell_type": "code",
      "source": [
        "x, y"
      ],
      "metadata": {
        "id": "YV6wSluwawMU"
      },
      "execution_count": null,
      "outputs": []
    },
    {
      "cell_type": "code",
      "source": [
        "x_y = x, y\n",
        "x_y"
      ],
      "metadata": {
        "id": "aarNYv5PB0l_"
      },
      "execution_count": null,
      "outputs": []
    },
    {
      "cell_type": "markdown",
      "source": [
        "Essayons avec F1 et F2 : "
      ],
      "metadata": {
        "id": "x4DQx8ECcoj1"
      }
    },
    {
      "cell_type": "code",
      "source": [
        "######\n",
        "\n",
        "# Il manque du code !\n",
        "\n",
        "######"
      ],
      "metadata": {
        "id": "IMMKS92ab6Z8"
      },
      "execution_count": null,
      "outputs": []
    },
    {
      "cell_type": "markdown",
      "source": [
        "Ohhhh ... Un chat ! "
      ],
      "metadata": {
        "id": "91EyjwUF3VQr"
      }
    },
    {
      "cell_type": "markdown",
      "source": [
        "Essayons avec F1 et F3 : "
      ],
      "metadata": {
        "id": "jbBVLXtYdF-A"
      }
    },
    {
      "cell_type": "code",
      "source": [
        "x_y = [0,2]\n",
        "\n",
        "######\n",
        "\n",
        "# Il manque du code !\n",
        "\n",
        "######"
      ],
      "metadata": {
        "id": "f9N1my2BaED2"
      },
      "execution_count": null,
      "outputs": []
    },
    {
      "cell_type": "markdown",
      "source": [
        "Un chat vue de dessous ? "
      ],
      "metadata": {
        "id": "NW46mD5t3xrC"
      }
    },
    {
      "cell_type": "code",
      "source": [
        "x_y = [1,2]\n",
        "\n",
        "######\n",
        "\n",
        "# Il manque du code !\n",
        "\n",
        "######"
      ],
      "metadata": {
        "id": "xJH-VJ_HCZO8"
      },
      "execution_count": null,
      "outputs": []
    },
    {
      "cell_type": "markdown",
      "source": [
        "Un chat vue de derrière ? "
      ],
      "metadata": {
        "id": "uzkewa-M322y"
      }
    },
    {
      "cell_type": "markdown",
      "source": [
        "## 3.7 Bonus"
      ],
      "metadata": {
        "id": "sZ704y88w0u3"
      }
    },
    {
      "cell_type": "markdown",
      "source": [
        "Je vous laisse avec un petit bonus. Nous allons utiliser la librairie `plotly` pour faire un affichage en 3 dimensions : "
      ],
      "metadata": {
        "id": "yyMuVt8H4G2H"
      }
    },
    {
      "cell_type": "code",
      "source": [
        "fig = px.scatter_3d(df, x='x', y='y', z='z', opacity=0.3)\n",
        "fig.show()"
      ],
      "metadata": {
        "id": "zS6BZPIAvn-5"
      },
      "execution_count": null,
      "outputs": []
    },
    {
      "cell_type": "markdown",
      "source": [
        "Passez votre souris sur l'image, vous pourrez zoomer, dézoomer, décaller les axes etc etc.\n",
        "\n",
        "Magique non ? \n",
        "\n",
        "\n",
        "Pour en savoir plus, c'est par [ici](https://plotly.com/python/)."
      ],
      "metadata": {
        "id": "7fU_0FGA4Zkx"
      }
    },
    {
      "cell_type": "markdown",
      "source": [
        "# 4 Conclusion"
      ],
      "metadata": {
        "id": "LG4P9_Erw8WS"
      }
    },
    {
      "cell_type": "markdown",
      "source": [
        "Vous êtes arrivé au bout de ce travail, Bravo!\n",
        "\n",
        "Il ne reste plus qu'à vous entrainer sur d'autres jeux de données :) "
      ],
      "metadata": {
        "id": "NScWbqigxA31"
      }
    },
    {
      "cell_type": "markdown",
      "source": [
        "En cas de questions, n'hésitez pas à nous adresser vos questions, remarques ou suggestions sur le [formulaire](https://openclassrooms.zendesk.com/hc/fr/requests/new) .\n",
        "\n"
      ],
      "metadata": {
        "id": "uIVhdN26w-rr"
      }
    }
  ]
}